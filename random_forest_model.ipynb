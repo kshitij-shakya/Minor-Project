{
 "cells": [
  {
   "cell_type": "code",
   "execution_count": 1,
   "id": "082a4584",
   "metadata": {},
   "outputs": [],
   "source": [
    "import numpy as np\n",
    "import pandas as pd\n",
    "import matplotlib.pyplot as plt\n",
    "from sklearn.metrics import confusion_matrix\n",
    "from sklearn.datasets import make_classification\n",
    "from sklearn.ensemble import RandomForestClassifier\n",
    "from sklearn.model_selection import train_test_split\n",
    "from sklearn.metrics import f1_score , accuracy_score, plot_confusion_matrix"
   ]
  },
  {
   "cell_type": "code",
   "execution_count": 2,
   "id": "5d702ed3",
   "metadata": {},
   "outputs": [],
   "source": [
    "df = pd.read_csv(\"drebin-215-dataset-5560malware-9476-benign.csv\" , low_memory=False)"
   ]
  },
  {
   "cell_type": "code",
   "execution_count": 3,
   "id": "1cf3d9af",
   "metadata": {},
   "outputs": [],
   "source": [
    "df.drop(['TelephonyManager.getSimCountryIso'], axis=1, inplace=True)"
   ]
  },
  {
   "cell_type": "code",
   "execution_count": 4,
   "id": "b892b129",
   "metadata": {},
   "outputs": [],
   "source": [
    "x = []\n",
    "for i in range(len(df)):\n",
    "    x.append(list((df.iloc[i]))[:-1])"
   ]
  },
  {
   "cell_type": "code",
   "execution_count": 5,
   "id": "76189abc",
   "metadata": {},
   "outputs": [],
   "source": [
    "x = np.array(x[:-3916]).astype('int16')"
   ]
  },
  {
   "cell_type": "code",
   "execution_count": 6,
   "id": "56d94a78",
   "metadata": {},
   "outputs": [],
   "source": [
    "y=[]\n",
    "for i in df['class']:\n",
    "    if i=='S':\n",
    "        y.append([0])\n",
    "    else:\n",
    "        y.append([1])"
   ]
  },
  {
   "cell_type": "code",
   "execution_count": 7,
   "id": "86a2ccd6",
   "metadata": {},
   "outputs": [],
   "source": [
    "y = np.array(y[:-3916])"
   ]
  },
  {
   "cell_type": "code",
   "execution_count": 8,
   "id": "6a5ac016",
   "metadata": {},
   "outputs": [
    {
     "data": {
      "text/plain": [
       "((11120, 214),\n",
       " (11120, 1),\n",
       " array([[0],\n",
       "        [0],\n",
       "        [0],\n",
       "        [0]]))"
      ]
     },
     "execution_count": 8,
     "metadata": {},
     "output_type": "execute_result"
    }
   ],
   "source": [
    "x.shape , y.shape, y[:4]"
   ]
  },
  {
   "cell_type": "code",
   "execution_count": 9,
   "id": "503918e6",
   "metadata": {},
   "outputs": [],
   "source": [
    " x_train, x_test, y_train, y_test = train_test_split(x, y.ravel(), test_size=0.1, random_state=42)"
   ]
  },
  {
   "cell_type": "code",
   "execution_count": 10,
   "id": "86fb9f4d",
   "metadata": {},
   "outputs": [],
   "source": [
    "clf = RandomForestClassifier(n_estimators=100)\n",
    "random_model = clf.fit(x_train, y_train)"
   ]
  },
  {
   "cell_type": "code",
   "execution_count": 11,
   "id": "8e8bd199",
   "metadata": {},
   "outputs": [
    {
     "data": {
      "text/plain": [
       "0.9986011191047163"
      ]
     },
     "execution_count": 11,
     "metadata": {},
     "output_type": "execute_result"
    }
   ],
   "source": [
    "accuracy_score(y_train, random_model.predict(x_train))"
   ]
  },
  {
   "cell_type": "code",
   "execution_count": 12,
   "id": "c17a755f",
   "metadata": {},
   "outputs": [
    {
     "data": {
      "text/plain": [
       "0.9829136690647482"
      ]
     },
     "execution_count": 12,
     "metadata": {},
     "output_type": "execute_result"
    }
   ],
   "source": [
    "accuracy_score(y_test, random_model.predict(x_test))"
   ]
  },
  {
   "cell_type": "code",
   "execution_count": 13,
   "id": "656c8ef1",
   "metadata": {},
   "outputs": [],
   "source": [
    "result = clf.predict(x_test)\n",
    "cm = confusion_matrix(y_test, result)"
   ]
  },
  {
   "cell_type": "code",
   "execution_count": 14,
   "id": "bc5f3e83",
   "metadata": {},
   "outputs": [
    {
     "name": "stdout",
     "output_type": "stream",
     "text": [
      "False positive rate : 2.294455 %\n",
      "False negative rate : 1.188455 %\n"
     ]
    }
   ],
   "source": [
    "print(\"False positive rate : %f %%\" % ((cm[0][1]/float(sum(cm[0])))*100))\n",
    "print('False negative rate : %f %%' % ((cm[1][0]/float(sum(cm[1])))*100))"
   ]
  },
  {
   "cell_type": "code",
   "execution_count": 15,
   "id": "a4efe4ab",
   "metadata": {},
   "outputs": [
    {
     "data": {
      "text/plain": [
       "0.9839391377852916"
      ]
     },
     "execution_count": 15,
     "metadata": {},
     "output_type": "execute_result"
    }
   ],
   "source": [
    "f1_score(y_test, result)"
   ]
  },
  {
   "cell_type": "code",
   "execution_count": 16,
   "id": "00d81cf4",
   "metadata": {},
   "outputs": [
    {
     "name": "stdout",
     "output_type": "stream",
     "text": [
      "[[511  12]\n",
      " [  7 582]]\n"
     ]
    },
    {
     "data": {
      "image/png": "[encoded data removed]",
      "text/plain": [
       "<Figure size 432x288 with 2 Axes>"
      ]
     },
     "metadata": {
      "needs_background": "light"
     },
     "output_type": "display_data"
    }
   ],
   "source": [
    "dis = plot_confusion_matrix(random_model, x_test, y_test,cmap=plt.cm.Blues)\n",
    "dis.ax_.set_title('confusion matrix of test data')\n",
    "print(dis.confusion_matrix)\n",
    "plt.show()"
   ]
  },
  {
   "cell_type": "code",
   "execution_count": 17,
   "id": "1f7d5495",
   "metadata": {},
   "outputs": [
    {
     "name": "stdout",
     "output_type": "stream",
     "text": [
      "[[5023   14]\n",
      " [   0 4971]]\n"
     ]
    },
    {
     "data": {
      "image/png": "[encoded data removed]",
      "text/plain": [
       "<Figure size 432x288 with 2 Axes>"
      ]
     },
     "metadata": {
      "needs_background": "light"
     },
     "output_type": "display_data"
    }
   ],
   "source": [
    "dis = plot_confusion_matrix(random_model, x_train, y_train,cmap=plt.cm.Blues)\n",
    "dis.ax_.set_title('confusion matrix of train data')\n",
    "print(dis.confusion_matrix)\n",
    "plt.show()"
   ]
  },
  {
   "cell_type": "code",
   "execution_count": 18,
   "id": "600b150b",
   "metadata": {},
   "outputs": [],
   "source": [
    "new_df = df[['transact','onServiceConnected', 'bindService','attachInterface','ServiceConnection','android.os.Binder',\n",
    "              'SEND_SMS','Ljava.lang.Class.getCanonicalName','Ljava.lang.Class.getMethods','Ljava.lang.Class.cast',\n",
    "              'Ljava.net.URLDecoder','android.content.pm.Signature','android.telephony.SmsManager','READ_PHONE_STATE',\n",
    "              'ClassLoader','Landroid.content.Context.registerReceiver','Ljava.lang.Class.getField',\n",
    "               'Landroid.content.Context.unregisterReceiver','GET_ACCOUNTS','RECEIVE_SMS','READ_SMS',\n",
    "              'android.intent.action.BOOT_COMPLETED','TelephonyManager.getLine1Number','TelephonyManager.getSubscriberId',\n",
    "              'INTERNET','TelephonyManager.getDeviceId','chmod']]"
   ]
  },
  {
   "cell_type": "code",
   "execution_count": 19,
   "id": "0348281e",
   "metadata": {},
   "outputs": [
    {
     "data": {
      "text/html": [
       "<div>\n",
       "<style scoped>\n",
       "    .dataframe tbody tr th:only-of-type {\n",
       "        vertical-align: middle;\n",
       "    }\n",
       "\n",
       "    .dataframe tbody tr th {\n",
       "        vertical-align: top;\n",
       "    }\n",
       "\n",
       "    .dataframe thead th {\n",
       "        text-align: right;\n",
       "    }\n",
       "</style>\n",
       "<table border=\"1\" class=\"dataframe\">\n",
       "  <thead>\n",
       "    <tr style=\"text-align: right;\">\n",
       "      <th></th>\n",
       "      <th>transact</th>\n",
       "      <th>onServiceConnected</th>\n",
       "      <th>bindService</th>\n",
       "      <th>attachInterface</th>\n",
       "      <th>ServiceConnection</th>\n",
       "      <th>android.os.Binder</th>\n",
       "      <th>SEND_SMS</th>\n",
       "      <th>Ljava.lang.Class.getCanonicalName</th>\n",
       "      <th>Ljava.lang.Class.getMethods</th>\n",
       "      <th>Ljava.lang.Class.cast</th>\n",
       "      <th>...</th>\n",
       "      <th>Landroid.content.Context.unregisterReceiver</th>\n",
       "      <th>GET_ACCOUNTS</th>\n",
       "      <th>RECEIVE_SMS</th>\n",
       "      <th>READ_SMS</th>\n",
       "      <th>android.intent.action.BOOT_COMPLETED</th>\n",
       "      <th>TelephonyManager.getLine1Number</th>\n",
       "      <th>TelephonyManager.getSubscriberId</th>\n",
       "      <th>INTERNET</th>\n",
       "      <th>TelephonyManager.getDeviceId</th>\n",
       "      <th>chmod</th>\n",
       "    </tr>\n",
       "  </thead>\n",
       "  <tbody>\n",
       "    <tr>\n",
       "      <th>0</th>\n",
       "      <td>0</td>\n",
       "      <td>0</td>\n",
       "      <td>0</td>\n",
       "      <td>0</td>\n",
       "      <td>0</td>\n",
       "      <td>0</td>\n",
       "      <td>1</td>\n",
       "      <td>0</td>\n",
       "      <td>0</td>\n",
       "      <td>0</td>\n",
       "      <td>...</td>\n",
       "      <td>1</td>\n",
       "      <td>0</td>\n",
       "      <td>0</td>\n",
       "      <td>0</td>\n",
       "      <td>1</td>\n",
       "      <td>0</td>\n",
       "      <td>0</td>\n",
       "      <td>1</td>\n",
       "      <td>0</td>\n",
       "      <td>0</td>\n",
       "    </tr>\n",
       "    <tr>\n",
       "      <th>1</th>\n",
       "      <td>0</td>\n",
       "      <td>0</td>\n",
       "      <td>0</td>\n",
       "      <td>0</td>\n",
       "      <td>0</td>\n",
       "      <td>0</td>\n",
       "      <td>1</td>\n",
       "      <td>0</td>\n",
       "      <td>0</td>\n",
       "      <td>0</td>\n",
       "      <td>...</td>\n",
       "      <td>1</td>\n",
       "      <td>0</td>\n",
       "      <td>1</td>\n",
       "      <td>1</td>\n",
       "      <td>1</td>\n",
       "      <td>0</td>\n",
       "      <td>0</td>\n",
       "      <td>1</td>\n",
       "      <td>0</td>\n",
       "      <td>0</td>\n",
       "    </tr>\n",
       "    <tr>\n",
       "      <th>2</th>\n",
       "      <td>0</td>\n",
       "      <td>0</td>\n",
       "      <td>0</td>\n",
       "      <td>0</td>\n",
       "      <td>0</td>\n",
       "      <td>0</td>\n",
       "      <td>1</td>\n",
       "      <td>0</td>\n",
       "      <td>0</td>\n",
       "      <td>0</td>\n",
       "      <td>...</td>\n",
       "      <td>0</td>\n",
       "      <td>0</td>\n",
       "      <td>0</td>\n",
       "      <td>0</td>\n",
       "      <td>0</td>\n",
       "      <td>0</td>\n",
       "      <td>0</td>\n",
       "      <td>1</td>\n",
       "      <td>0</td>\n",
       "      <td>0</td>\n",
       "    </tr>\n",
       "    <tr>\n",
       "      <th>3</th>\n",
       "      <td>0</td>\n",
       "      <td>0</td>\n",
       "      <td>0</td>\n",
       "      <td>0</td>\n",
       "      <td>0</td>\n",
       "      <td>0</td>\n",
       "      <td>0</td>\n",
       "      <td>0</td>\n",
       "      <td>0</td>\n",
       "      <td>1</td>\n",
       "      <td>...</td>\n",
       "      <td>0</td>\n",
       "      <td>0</td>\n",
       "      <td>0</td>\n",
       "      <td>1</td>\n",
       "      <td>1</td>\n",
       "      <td>1</td>\n",
       "      <td>1</td>\n",
       "      <td>1</td>\n",
       "      <td>1</td>\n",
       "      <td>1</td>\n",
       "    </tr>\n",
       "    <tr>\n",
       "      <th>4</th>\n",
       "      <td>0</td>\n",
       "      <td>0</td>\n",
       "      <td>0</td>\n",
       "      <td>0</td>\n",
       "      <td>0</td>\n",
       "      <td>0</td>\n",
       "      <td>0</td>\n",
       "      <td>0</td>\n",
       "      <td>0</td>\n",
       "      <td>0</td>\n",
       "      <td>...</td>\n",
       "      <td>0</td>\n",
       "      <td>0</td>\n",
       "      <td>0</td>\n",
       "      <td>0</td>\n",
       "      <td>1</td>\n",
       "      <td>0</td>\n",
       "      <td>0</td>\n",
       "      <td>1</td>\n",
       "      <td>1</td>\n",
       "      <td>0</td>\n",
       "    </tr>\n",
       "    <tr>\n",
       "      <th>...</th>\n",
       "      <td>...</td>\n",
       "      <td>...</td>\n",
       "      <td>...</td>\n",
       "      <td>...</td>\n",
       "      <td>...</td>\n",
       "      <td>...</td>\n",
       "      <td>...</td>\n",
       "      <td>...</td>\n",
       "      <td>...</td>\n",
       "      <td>...</td>\n",
       "      <td>...</td>\n",
       "      <td>...</td>\n",
       "      <td>...</td>\n",
       "      <td>...</td>\n",
       "      <td>...</td>\n",
       "      <td>...</td>\n",
       "      <td>...</td>\n",
       "      <td>...</td>\n",
       "      <td>...</td>\n",
       "      <td>...</td>\n",
       "      <td>...</td>\n",
       "    </tr>\n",
       "    <tr>\n",
       "      <th>15031</th>\n",
       "      <td>1</td>\n",
       "      <td>1</td>\n",
       "      <td>1</td>\n",
       "      <td>1</td>\n",
       "      <td>1</td>\n",
       "      <td>1</td>\n",
       "      <td>0</td>\n",
       "      <td>1</td>\n",
       "      <td>1</td>\n",
       "      <td>1</td>\n",
       "      <td>...</td>\n",
       "      <td>1</td>\n",
       "      <td>0</td>\n",
       "      <td>0</td>\n",
       "      <td>0</td>\n",
       "      <td>0</td>\n",
       "      <td>0</td>\n",
       "      <td>0</td>\n",
       "      <td>1</td>\n",
       "      <td>1</td>\n",
       "      <td>0</td>\n",
       "    </tr>\n",
       "    <tr>\n",
       "      <th>15032</th>\n",
       "      <td>0</td>\n",
       "      <td>0</td>\n",
       "      <td>0</td>\n",
       "      <td>0</td>\n",
       "      <td>0</td>\n",
       "      <td>0</td>\n",
       "      <td>0</td>\n",
       "      <td>0</td>\n",
       "      <td>0</td>\n",
       "      <td>1</td>\n",
       "      <td>...</td>\n",
       "      <td>1</td>\n",
       "      <td>0</td>\n",
       "      <td>0</td>\n",
       "      <td>0</td>\n",
       "      <td>0</td>\n",
       "      <td>0</td>\n",
       "      <td>0</td>\n",
       "      <td>1</td>\n",
       "      <td>0</td>\n",
       "      <td>0</td>\n",
       "    </tr>\n",
       "    <tr>\n",
       "      <th>15033</th>\n",
       "      <td>0</td>\n",
       "      <td>0</td>\n",
       "      <td>0</td>\n",
       "      <td>0</td>\n",
       "      <td>0</td>\n",
       "      <td>0</td>\n",
       "      <td>0</td>\n",
       "      <td>0</td>\n",
       "      <td>0</td>\n",
       "      <td>0</td>\n",
       "      <td>...</td>\n",
       "      <td>0</td>\n",
       "      <td>0</td>\n",
       "      <td>0</td>\n",
       "      <td>0</td>\n",
       "      <td>0</td>\n",
       "      <td>0</td>\n",
       "      <td>0</td>\n",
       "      <td>1</td>\n",
       "      <td>1</td>\n",
       "      <td>0</td>\n",
       "    </tr>\n",
       "    <tr>\n",
       "      <th>15034</th>\n",
       "      <td>1</td>\n",
       "      <td>1</td>\n",
       "      <td>1</td>\n",
       "      <td>1</td>\n",
       "      <td>1</td>\n",
       "      <td>1</td>\n",
       "      <td>0</td>\n",
       "      <td>1</td>\n",
       "      <td>1</td>\n",
       "      <td>1</td>\n",
       "      <td>...</td>\n",
       "      <td>1</td>\n",
       "      <td>1</td>\n",
       "      <td>0</td>\n",
       "      <td>0</td>\n",
       "      <td>0</td>\n",
       "      <td>0</td>\n",
       "      <td>0</td>\n",
       "      <td>1</td>\n",
       "      <td>1</td>\n",
       "      <td>0</td>\n",
       "    </tr>\n",
       "    <tr>\n",
       "      <th>15035</th>\n",
       "      <td>1</td>\n",
       "      <td>1</td>\n",
       "      <td>1</td>\n",
       "      <td>1</td>\n",
       "      <td>1</td>\n",
       "      <td>1</td>\n",
       "      <td>0</td>\n",
       "      <td>1</td>\n",
       "      <td>1</td>\n",
       "      <td>1</td>\n",
       "      <td>...</td>\n",
       "      <td>0</td>\n",
       "      <td>0</td>\n",
       "      <td>0</td>\n",
       "      <td>0</td>\n",
       "      <td>0</td>\n",
       "      <td>0</td>\n",
       "      <td>1</td>\n",
       "      <td>1</td>\n",
       "      <td>1</td>\n",
       "      <td>0</td>\n",
       "    </tr>\n",
       "  </tbody>\n",
       "</table>\n",
       "<p>15036 rows × 27 columns</p>\n",
       "</div>"
      ],
      "text/plain": [
       "       transact  onServiceConnected  bindService  attachInterface  \\\n",
       "0             0                   0            0                0   \n",
       "1             0                   0            0                0   \n",
       "2             0                   0            0                0   \n",
       "3             0                   0            0                0   \n",
       "4             0                   0            0                0   \n",
       "...         ...                 ...          ...              ...   \n",
       "15031         1                   1            1                1   \n",
       "15032         0                   0            0                0   \n",
       "15033         0                   0            0                0   \n",
       "15034         1                   1            1                1   \n",
       "15035         1                   1            1                1   \n",
       "\n",
       "       ServiceConnection  android.os.Binder  SEND_SMS  \\\n",
       "0                      0                  0         1   \n",
       "1                      0                  0         1   \n",
       "2                      0                  0         1   \n",
       "3                      0                  0         0   \n",
       "4                      0                  0         0   \n",
       "...                  ...                ...       ...   \n",
       "15031                  1                  1         0   \n",
       "15032                  0                  0         0   \n",
       "15033                  0                  0         0   \n",
       "15034                  1                  1         0   \n",
       "15035                  1                  1         0   \n",
       "\n",
       "       Ljava.lang.Class.getCanonicalName  Ljava.lang.Class.getMethods  \\\n",
       "0                                      0                            0   \n",
       "1                                      0                            0   \n",
       "2                                      0                            0   \n",
       "3                                      0                            0   \n",
       "4                                      0                            0   \n",
       "...                                  ...                          ...   \n",
       "15031                                  1                            1   \n",
       "15032                                  0                            0   \n",
       "15033                                  0                            0   \n",
       "15034                                  1                            1   \n",
       "15035                                  1                            1   \n",
       "\n",
       "       Ljava.lang.Class.cast  ...  \\\n",
       "0                          0  ...   \n",
       "1                          0  ...   \n",
       "2                          0  ...   \n",
       "3                          1  ...   \n",
       "4                          0  ...   \n",
       "...                      ...  ...   \n",
       "15031                      1  ...   \n",
       "15032                      1  ...   \n",
       "15033                      0  ...   \n",
       "15034                      1  ...   \n",
       "15035                      1  ...   \n",
       "\n",
       "       Landroid.content.Context.unregisterReceiver  GET_ACCOUNTS  RECEIVE_SMS  \\\n",
       "0                                                1             0            0   \n",
       "1                                                1             0            1   \n",
       "2                                                0             0            0   \n",
       "3                                                0             0            0   \n",
       "4                                                0             0            0   \n",
       "...                                            ...           ...          ...   \n",
       "15031                                            1             0            0   \n",
       "15032                                            1             0            0   \n",
       "15033                                            0             0            0   \n",
       "15034                                            1             1            0   \n",
       "15035                                            0             0            0   \n",
       "\n",
       "       READ_SMS  android.intent.action.BOOT_COMPLETED  \\\n",
       "0             0                                     1   \n",
       "1             1                                     1   \n",
       "2             0                                     0   \n",
       "3             1                                     1   \n",
       "4             0                                     1   \n",
       "...         ...                                   ...   \n",
       "15031         0                                     0   \n",
       "15032         0                                     0   \n",
       "15033         0                                     0   \n",
       "15034         0                                     0   \n",
       "15035         0                                     0   \n",
       "\n",
       "       TelephonyManager.getLine1Number  TelephonyManager.getSubscriberId  \\\n",
       "0                                    0                                 0   \n",
       "1                                    0                                 0   \n",
       "2                                    0                                 0   \n",
       "3                                    1                                 1   \n",
       "4                                    0                                 0   \n",
       "...                                ...                               ...   \n",
       "15031                                0                                 0   \n",
       "15032                                0                                 0   \n",
       "15033                                0                                 0   \n",
       "15034                                0                                 0   \n",
       "15035                                0                                 1   \n",
       "\n",
       "       INTERNET  TelephonyManager.getDeviceId  chmod  \n",
       "0             1                             0      0  \n",
       "1             1                             0      0  \n",
       "2             1                             0      0  \n",
       "3             1                             1      1  \n",
       "4             1                             1      0  \n",
       "...         ...                           ...    ...  \n",
       "15031         1                             1      0  \n",
       "15032         1                             0      0  \n",
       "15033         1                             1      0  \n",
       "15034         1                             1      0  \n",
       "15035         1                             1      0  \n",
       "\n",
       "[15036 rows x 27 columns]"
      ]
     },
     "execution_count": 19,
     "metadata": {},
     "output_type": "execute_result"
    }
   ],
   "source": [
    "new_df"
   ]
  },
  {
   "cell_type": "code",
   "execution_count": 20,
   "id": "9d3eb205",
   "metadata": {},
   "outputs": [],
   "source": [
    "new_x = []\n",
    "for i in range(len(new_df)):\n",
    "    new_x.append(list((new_df.iloc[i])))"
   ]
  },
  {
   "cell_type": "code",
   "execution_count": 21,
   "id": "af1dd236",
   "metadata": {},
   "outputs": [],
   "source": [
    "new_x = np.array(new_x[:-3916]).astype('int16')"
   ]
  },
  {
   "cell_type": "code",
   "execution_count": 22,
   "id": "654acfb3",
   "metadata": {},
   "outputs": [
    {
     "data": {
      "text/plain": [
       "(11120, 27)"
      ]
     },
     "execution_count": 22,
     "metadata": {},
     "output_type": "execute_result"
    }
   ],
   "source": [
    "new_x.shape"
   ]
  },
  {
   "cell_type": "code",
   "execution_count": 23,
   "id": "0fb6685b",
   "metadata": {},
   "outputs": [],
   "source": [
    "new_x_train, new_x_test, new_y_train, new_y_test = train_test_split(new_x, y.ravel(), test_size=0.1, random_state=42)"
   ]
  },
  {
   "cell_type": "code",
   "execution_count": 24,
   "id": "bfd35a1b",
   "metadata": {},
   "outputs": [],
   "source": [
    "new_clf = RandomForestClassifier(n_estimators=100)\n",
    "new_random_model = new_clf.fit(new_x_train, new_y_train)"
   ]
  },
  {
   "cell_type": "code",
   "execution_count": 25,
   "id": "6725c09a",
   "metadata": {},
   "outputs": [
    {
     "data": {
      "text/plain": [
       "0.9822142286171063"
      ]
     },
     "execution_count": 25,
     "metadata": {},
     "output_type": "execute_result"
    }
   ],
   "source": [
    "accuracy_score(new_y_train, new_random_model.predict(new_x_train))"
   ]
  },
  {
   "cell_type": "code",
   "execution_count": 26,
   "id": "df4ec8fc",
   "metadata": {},
   "outputs": [
    {
     "data": {
      "text/plain": [
       "0.9685251798561151"
      ]
     },
     "execution_count": 26,
     "metadata": {},
     "output_type": "execute_result"
    }
   ],
   "source": [
    "accuracy_score(new_y_test, new_random_model.predict(new_x_test))"
   ]
  },
  {
   "cell_type": "code",
   "execution_count": 27,
   "id": "45c9ad7c",
   "metadata": {},
   "outputs": [],
   "source": [
    "new_result = new_clf.predict(new_x_test)\n",
    "new_cm = confusion_matrix(new_y_test, new_result)"
   ]
  },
  {
   "cell_type": "code",
   "execution_count": 28,
   "id": "09efeb3b",
   "metadata": {},
   "outputs": [
    {
     "name": "stdout",
     "output_type": "stream",
     "text": [
      "False positive rate : 3.441683 %\n",
      "False negative rate : 2.886248 %\n"
     ]
    }
   ],
   "source": [
    "print(\"False positive rate : %f %%\" % ((new_cm[0][1]/float(sum(new_cm[0])))*100))\n",
    "print('False negative rate : %f %%' % ((new_cm[1][0]/float(sum(new_cm[1])))*100))"
   ]
  },
  {
   "cell_type": "code",
   "execution_count": 29,
   "id": "98eabc5e",
   "metadata": {},
   "outputs": [
    {
     "data": {
      "text/plain": [
       "0.9703138252756572"
      ]
     },
     "execution_count": 29,
     "metadata": {},
     "output_type": "execute_result"
    }
   ],
   "source": [
    "f1_score(new_y_test, new_result)"
   ]
  },
  {
   "cell_type": "code",
   "execution_count": 30,
   "id": "78303299",
   "metadata": {},
   "outputs": [
    {
     "name": "stdout",
     "output_type": "stream",
     "text": [
      "[[505  18]\n",
      " [ 17 572]]\n"
     ]
    },
    {
     "data": {
      "image/png": "[encoded data removed]",
      "text/plain": [
       "<Figure size 432x288 with 2 Axes>"
      ]
     },
     "metadata": {
      "needs_background": "light"
     },
     "output_type": "display_data"
    }
   ],
   "source": [
    "new_dis = plot_confusion_matrix(new_random_model, new_x_test, new_y_test,cmap=plt.cm.Blues)\n",
    "new_dis.ax_.set_title('confusion matrix of test data when features are less')\n",
    "print(new_dis.confusion_matrix)\n",
    "plt.show()"
   ]
  },
  {
   "cell_type": "code",
   "execution_count": 31,
   "id": "08298a52",
   "metadata": {},
   "outputs": [
    {
     "name": "stdout",
     "output_type": "stream",
     "text": [
      "[[4937  100]\n",
      " [  78 4893]]\n"
     ]
    },
    {
     "data": {
      "image/png": "[encoded data removed]",
      "text/plain": [
       "<Figure size 432x288 with 2 Axes>"
      ]
     },
     "metadata": {
      "needs_background": "light"
     },
     "output_type": "display_data"
    }
   ],
   "source": [
    "new_dis = plot_confusion_matrix(new_random_model, new_x_train, new_y_train,cmap=plt.cm.Blues)\n",
    "new_dis.ax_.set_title('confusion matrix of train data when features are less')\n",
    "print(new_dis.confusion_matrix)\n",
    "plt.show()"
   ]
  },
  {
   "cell_type": "code",
   "execution_count": null,
   "id": "518d53b3",
   "metadata": {},
   "outputs": [],
   "source": []
  }
 ],
 "metadata": {
  "kernelspec": {
   "display_name": "Python 3",
   "language": "python",
   "name": "python3"
  },
  "language_info": {
   "codemirror_mode": {
    "name": "ipython",
    "version": 3
   },
   "file_extension": ".py",
   "mimetype": "text/x-python",
   "name": "python",
   "nbconvert_exporter": "python",
   "pygments_lexer": "ipython3",
   "version": "3.8.8"
  }
 },
 "nbformat": 4,
 "nbformat_minor": 5
}
